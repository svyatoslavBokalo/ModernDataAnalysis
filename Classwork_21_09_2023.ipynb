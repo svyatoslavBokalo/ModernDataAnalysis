{
 "cells": [
  {
   "cell_type": "markdown",
   "id": "ed3f3ae3",
   "metadata": {
    "toc": true
   },
   "source": [
    "<h1>Table of Contents<span class=\"tocSkip\"></span></h1>\n",
    "<div class=\"toc\"><ul class=\"toc-item\"><li><span><a href=\"#Question-1\" data-toc-modified-id=\"Question-1-1\"><span class=\"toc-item-num\">1&nbsp;&nbsp;</span>Question 1</a></span></li><li><span><a href=\"#Question-2\" data-toc-modified-id=\"Question-2-2\"><span class=\"toc-item-num\">2&nbsp;&nbsp;</span>Question 2</a></span></li><li><span><a href=\"#Question-3\" data-toc-modified-id=\"Question-3-3\"><span class=\"toc-item-num\">3&nbsp;&nbsp;</span>Question 3</a></span></li><li><span><a href=\"#Question-4\" data-toc-modified-id=\"Question-4-4\"><span class=\"toc-item-num\">4&nbsp;&nbsp;</span>Question 4</a></span></li><li><span><a href=\"#Question-5\" data-toc-modified-id=\"Question-5-5\"><span class=\"toc-item-num\">5&nbsp;&nbsp;</span>Question 5</a></span></li><li><span><a href=\"#Question-6\" data-toc-modified-id=\"Question-6-6\"><span class=\"toc-item-num\">6&nbsp;&nbsp;</span>Question 6</a></span></li></ul></div>"
   ]
  },
  {
   "cell_type": "markdown",
   "id": "d971002b",
   "metadata": {},
   "source": [
    "##  Question 1"
   ]
  },
  {
   "cell_type": "markdown",
   "id": "62ccba07",
   "metadata": {},
   "source": [
    "The Fibonacci numbers are the sequence below, where the first two numbers are 1, and each number thereafter is the sum of the two preceding numbers. Write a program that asks the user how many Fibonacci numbers to print and then prints that many.\n",
    "\n",
    "1, 1, 2, 3, 5, 8, 13, 21, 34, 55, 89, …"
   ]
  },
  {
   "cell_type": "markdown",
   "id": "935faf60",
   "metadata": {},
   "source": [
    "##  Question 2"
   ]
  },
  {
   "cell_type": "markdown",
   "id": "af72a923",
   "metadata": {},
   "source": [
    "Write a program that asks the user to enter the integer number greater than 1. Calculate:\n",
    "\n",
    "$\n",
    "\\sum_{k=1}^n k \n",
    "$"
   ]
  },
  {
   "cell_type": "markdown",
   "id": "176160e5",
   "metadata": {},
   "source": [
    "##  Question 3"
   ]
  },
  {
   "cell_type": "markdown",
   "id": "a1dd5e51",
   "metadata": {},
   "source": [
    "Write a program that asks the user to enter integer number. Then check if the number is prime."
   ]
  },
  {
   "cell_type": "markdown",
   "id": "69d84cfe",
   "metadata": {},
   "source": [
    "## Question 4"
   ]
  },
  {
   "cell_type": "markdown",
   "id": "cd541add",
   "metadata": {},
   "source": [
    "Write a function which asks the user to enter a text and returns 3 numbers:\n",
    "\n",
    "- number of characters,\n",
    "- number of words,\n",
    "- number of lines."
   ]
  },
  {
   "cell_type": "markdown",
   "id": "59ac7de3",
   "metadata": {},
   "source": [
    "## Question 5"
   ]
  },
  {
   "cell_type": "markdown",
   "id": "8264d676",
   "metadata": {},
   "source": [
    "Write a program that asks the user for a large integer and inserts commas into it according to the standard American convention for commas in large numbers. For instance, if the user enters 1000000, the output should be 1,000,000."
   ]
  },
  {
   "cell_type": "markdown",
   "id": "52aacdb9",
   "metadata": {},
   "source": [
    "## Question 6"
   ]
  },
  {
   "cell_type": "markdown",
   "id": "6db12509",
   "metadata": {},
   "source": [
    "Create a function which reverts a dictionary (keys become values, values become keys)"
   ]
  }
 ],
 "metadata": {
  "kernelspec": {
   "display_name": "Python 3 (ipykernel)",
   "language": "python",
   "name": "python3"
  },
  "language_info": {
   "codemirror_mode": {
    "name": "ipython",
    "version": 3
   },
   "file_extension": ".py",
   "mimetype": "text/x-python",
   "name": "python",
   "nbconvert_exporter": "python",
   "pygments_lexer": "ipython3",
   "version": "3.9.7"
  },
  "toc": {
   "base_numbering": 1,
   "nav_menu": {},
   "number_sections": true,
   "sideBar": true,
   "skip_h1_title": false,
   "title_cell": "Table of Contents",
   "title_sidebar": "Contents",
   "toc_cell": true,
   "toc_position": {},
   "toc_section_display": true,
   "toc_window_display": true
  }
 },
 "nbformat": 4,
 "nbformat_minor": 5
}
