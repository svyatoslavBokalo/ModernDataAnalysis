{
 "cells": [
  {
   "cell_type": "markdown",
   "id": "9104de2a-29e2-4e58-a23b-0e54c1631abf",
   "metadata": {},
   "source": [
    "## Завдання 1.\n",
    "1. Маючи список чисел nums,\n",
    "напишіть функцію яка\n",
    "видаляє від’ємні числа у\n",
    "списку.\n",
    "\n",
    "Приклад1:\n",
    "Вхід: nums = [-10, 1, 2, -5, -4]\n",
    "Вихід: [1, 2]\n",
    "\n",
    "Приклад2:\n",
    "Вхід: nums = [-2, 4, 5, 3]\n",
    "Вихід: [4, 5, 3]"
   ]
  },
  {
   "cell_type": "code",
   "execution_count": 4,
   "id": "7d475adc-bef5-4eb4-a8ac-a7970d67367b",
   "metadata": {},
   "outputs": [
    {
     "name": "stdout",
     "output_type": "stream",
     "text": [
      "[1, 2]\n",
      "[4, 5, 3]\n"
     ]
    }
   ],
   "source": [
    "def remove_negatives_digit(nums):\n",
    "    new_list = []\n",
    "    for el in nums:\n",
    "        if(el >= 0):\n",
    "            new_list.append(el)\n",
    "    return new_list\n",
    "\n",
    "\n",
    "ex1 = remove_negatives_digit([-10, 1, 2, -5, -4])\n",
    "print(ex1) \n",
    "\n",
    "ex2 = remove_negatives_digit([-2, 4, 5, 3])\n",
    "print(ex2)"
   ]
  },
  {
   "cell_type": "markdown",
   "id": "244b4b5a-aedb-43d7-aa05-727701a01dd4",
   "metadata": {},
   "source": [
    "## Завдання 2.\n",
    "\n",
    "2. Дано рядок. Написати\n",
    "функцію, яка друкує всі слова\n",
    "парної довжини в заданому\n",
    "рядку.\n",
    "\n",
    "Приклади:\n",
    "\n",
    "Вхід: s = \"I love Ukraine\"\n",
    "Результат: love\n",
    "\n",
    "Вхід: s = \"I am student\"\n",
    "Вихід: am"
   ]
  },
  {
   "cell_type": "code",
   "execution_count": 11,
   "id": "ce2360eb-fa34-49db-991e-ce843e66b73d",
   "metadata": {},
   "outputs": [
    {
     "name": "stdout",
     "output_type": "stream",
     "text": [
      "love \n",
      "am \n",
      "Modern data analysis \n"
     ]
    }
   ],
   "source": [
    "def print_word_which_has_even_len(line):\n",
    "    res = \"\"\n",
    "    for word in line.split():\n",
    "        \n",
    "        if(len(word) % 2 == 0):\n",
    "            res+=word+\" \"\n",
    "    return res\n",
    "\n",
    "ex1 = print_word_which_has_even_len(\"I love Ukraine\")\n",
    "ex2 = print_word_which_has_even_len(\"I am student\")\n",
    "ex3 = print_word_which_has_even_len(\"Modern data analysis\")\n",
    "\n",
    "print(ex1)\n",
    "print(ex2)\n",
    "print(ex3)"
   ]
  },
  {
   "cell_type": "markdown",
   "id": "e5e879e1-d18f-4ae5-9e77-b01370dc9f28",
   "metadata": {},
   "source": [
    "## Завдання 3.\n",
    "\n",
    "3. Написати функцію, яка\n",
    "групує однакові елементи\n",
    "списку і записує в словник.\n",
    "\n",
    "Приклад:\n",
    "\n",
    "Вхід: nums = [4, 6, 6, 4, 2, 2, 4, 8, 8]\n",
    "Вихід: {4: [4, 4, 4], 6: [6, 6], 2: [2, 2],\n",
    "8: [8, 8]}"
   ]
  },
  {
   "cell_type": "code",
   "execution_count": 15,
   "id": "bc4a69ca-407e-4344-b6e5-d7972e7555be",
   "metadata": {},
   "outputs": [
    {
     "name": "stdout",
     "output_type": "stream",
     "text": [
      "{4: [4, 4, 4], 6: [6, 6], 2: [2, 2], 8: [8, 8]}\n",
      "{2: [2, 2], 5: [5, 5, 5], 4: [4, 4], 8: [8, 8]}\n"
     ]
    }
   ],
   "source": [
    "def group_elements(nums):\n",
    "    groups = {}\n",
    "    for element in nums:\n",
    "        if element in groups:\n",
    "            groups[element].append(element)\n",
    "        else:\n",
    "            groups[element] = [element]\n",
    "    return groups\n",
    "\n",
    "ex1 = group_elements([4, 6, 6, 4, 2, 2, 4, 8, 8])\n",
    "ex2 = group_elements([2, 2, 5, 4, 5, 5, 4, 8, 8])\n",
    "print(ex1)\n",
    "print(ex2)"
   ]
  },
  {
   "cell_type": "markdown",
   "id": "97242144-e562-4fa0-a14b-cea2bd6c946f",
   "metadata": {},
   "source": [
    "## Завдання 4.\n",
    "\n",
    "Написати функцію, яка рахує\n",
    "середнє значення значень\n",
    "словника\n",
    "\n",
    "Приклад 1:\n",
    "\n",
    "Вхід: dct = {\"A\" : 1, \"B\" : 2,\n",
    "\"C\" : 3, \"D\" : 4, \"E\" : 5}\n",
    "Вихід: 3\n",
    "Пояснення: (1+2+3+4+5)/5 =3"
   ]
  },
  {
   "cell_type": "code",
   "execution_count": 21,
   "id": "d5f06c48-abee-42b1-9774-6e6893aca99c",
   "metadata": {},
   "outputs": [
    {
     "name": "stdout",
     "output_type": "stream",
     "text": [
      "3.0\n",
      "5.833333333333333\n"
     ]
    }
   ],
   "source": [
    "def average_of_dict_values(dct):\n",
    "    if len(dct) == 0:\n",
    "        return 0\n",
    "    average = sum(dct.values()) / len(dct)\n",
    "    return average\n",
    "\n",
    "ex1 = average_of_dict_values({\"A\": 1, \"B\": 2, \"C\": 3, \"D\": 4, \"E\": 5})\n",
    "ex2 = average_of_dict_values({\"A\": 5, \"B\": 5, \"C\": 5, \"D\": 5, \"E\": 5,\"F\":10})\n",
    "print(ex1)\n",
    "print(ex2)"
   ]
  },
  {
   "cell_type": "markdown",
   "id": "4a42fa6e-eea2-4ced-b41e-8e111851314b",
   "metadata": {},
   "source": [
    "## Завдання 5.\n",
    "\n",
    "Дано кортеж, знайдіть\n",
    "частоту кожного елемента.\n",
    "\n",
    "Вхід: tup = (4, 5, 4, 5, 6, 6, 5)\n",
    "Вихід: {4: 2, 5: 3, 6: 2}\n",
    "\n",
    "Вхід: tup = (4, 5, 4, 5, 6, 6, 6)\n",
    "Вихід: {4: 2, 5: 2, 6: 3}"
   ]
  },
  {
   "cell_type": "code",
   "execution_count": 23,
   "id": "a4163b3a-dc40-4571-8273-7cbe2514f35e",
   "metadata": {},
   "outputs": [
    {
     "name": "stdout",
     "output_type": "stream",
     "text": [
      "{4: 2, 5: 3, 6: 2}\n",
      "{4: 2, 5: 2, 6: 3}\n"
     ]
    }
   ],
   "source": [
    "def find_frequency(tup):\n",
    "    frequency_dict = {}\n",
    "    for element in tup:\n",
    "        frequency_dict[element] = frequency_dict.get(element, 0) + 1\n",
    "    return frequency_dict\n",
    "\n",
    "ex1 = find_frequency((4, 5, 4, 5, 6, 6, 5))\n",
    "ex2 = find_frequency((4, 5, 4, 5, 6, 6, 6))\n",
    "print(example1)\n",
    "print(example2)"
   ]
  },
  {
   "cell_type": "code",
   "execution_count": null,
   "id": "3508c990-da5a-470d-9816-3f3528321014",
   "metadata": {},
   "outputs": [],
   "source": []
  }
 ],
 "metadata": {
  "kernelspec": {
   "display_name": "Python 3 (ipykernel)",
   "language": "python",
   "name": "python3"
  },
  "language_info": {
   "codemirror_mode": {
    "name": "ipython",
    "version": 3
   },
   "file_extension": ".py",
   "mimetype": "text/x-python",
   "name": "python",
   "nbconvert_exporter": "python",
   "pygments_lexer": "ipython3",
   "version": "3.9.7"
  }
 },
 "nbformat": 4,
 "nbformat_minor": 5
}
