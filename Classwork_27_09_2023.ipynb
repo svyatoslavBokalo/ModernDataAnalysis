{
 "cells": [
  {
   "cell_type": "markdown",
   "id": "0a4e54ef",
   "metadata": {
    "toc": true
   },
   "source": [
    "<h1>Table of Contents<span class=\"tocSkip\"></span></h1>\n",
    "<div class=\"toc\"><ul class=\"toc-item\"><li><span><a href=\"#Задача-1\" data-toc-modified-id=\"Задача-1-1\"><span class=\"toc-item-num\">1&nbsp;&nbsp;</span>Задача 1</a></span></li><li><span><a href=\"#Задача-2\" data-toc-modified-id=\"Задача-2-2\"><span class=\"toc-item-num\">2&nbsp;&nbsp;</span>Задача 2</a></span></li><li><span><a href=\"#Задача-3\" data-toc-modified-id=\"Задача-3-3\"><span class=\"toc-item-num\">3&nbsp;&nbsp;</span>Задача 3</a></span></li></ul></div>"
   ]
  },
  {
   "cell_type": "markdown",
   "id": "e269be2a",
   "metadata": {},
   "source": [
    "## Задача 1"
   ]
  },
  {
   "cell_type": "markdown",
   "id": "9d1a0370",
   "metadata": {},
   "source": [
    "Дано масив цілих чисел nums, відсортований у порядку зростання, і ціле число n. Напишіть функцію для пошуку n в nums. Якщо ціль існує, поверніть її індекс. В іншому випадку поверніть -1.\n",
    "\n",
    "Ви повинні написати алгоритм зі складністю виконання O(log n).\n",
    "\n",
    "Приклад 1:\n",
    "\n",
    "Вхідні дані: nums = [-1,0,3,5,9,12], n = 9\n",
    "Вихід: 4\n",
    "Пояснення: 9 існує в nums, і його індекс дорівнює 4\n",
    "\n",
    "Приклад 2:\n",
    "\n",
    "Вхідні дані: nums = [-1,0,3,5,9,12], n = 2\n",
    "Вихід: -1\n",
    "Пояснення: 2 не існує в nums, тому поверніть -1"
   ]
  },
  {
   "cell_type": "markdown",
   "id": "2d3c2b95",
   "metadata": {},
   "source": [
    "## Задача 2"
   ]
  },
  {
   "cell_type": "markdown",
   "id": "3fc7608a",
   "metadata": {},
   "source": [
    "Дано стрічку s, знайти довжину найдовшої підстрічки без повторення символів.\n",
    "\n",
    "Приклад 1:\n",
    "\n",
    "Вхід: s = \"abcabcbb\"\n",
    "Вихід: 3\n",
    "Пояснення: відповідь «abc», довжина якого дорівнює 3."
   ]
  },
  {
   "cell_type": "markdown",
   "id": "f9461096",
   "metadata": {},
   "source": [
    "## Задача 3"
   ]
  },
  {
   "cell_type": "markdown",
   "id": "57f0530a",
   "metadata": {},
   "source": [
    "Дано цілочисельний масив nums унікальних елементів, повернути всі можливі підмножини (набір потужностей).\n",
    "Набір рішень не повинен містити повторюваних підмножин. \n",
    "\n",
    "Приклад 1:\n",
    "\n",
    "Вхідні дані: nums = [1,2,3]\n",
    "Вихід: [[],[1],[2],[1,2],[3],[1,3],[2,3],[1,2,3]]"
   ]
  },
  {
   "cell_type": "markdown",
   "id": "7c5c27c5",
   "metadata": {},
   "source": []
  }
 ],
 "metadata": {
  "kernelspec": {
   "display_name": "Python 3 (ipykernel)",
   "language": "python",
   "name": "python3"
  },
  "language_info": {
   "codemirror_mode": {
    "name": "ipython",
    "version": 3
   },
   "file_extension": ".py",
   "mimetype": "text/x-python",
   "name": "python",
   "nbconvert_exporter": "python",
   "pygments_lexer": "ipython3",
   "version": "3.9.7"
  },
  "toc": {
   "base_numbering": 1,
   "nav_menu": {},
   "number_sections": true,
   "sideBar": true,
   "skip_h1_title": false,
   "title_cell": "Table of Contents",
   "title_sidebar": "Contents",
   "toc_cell": true,
   "toc_position": {
    "height": "calc(100% - 180px)",
    "left": "10px",
    "top": "150px",
    "width": "165px"
   },
   "toc_section_display": true,
   "toc_window_display": true
  }
 },
 "nbformat": 4,
 "nbformat_minor": 5
}
